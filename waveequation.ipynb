{
 "cells": [
  {
   "cell_type": "code",
   "execution_count": 18,
   "metadata": {},
   "outputs": [],
   "source": [
    "%matplotlib inline        \n",
    "\n",
    "import numpy as np                          #This is imported so we can use a linspace to define some variables later on\n",
    "\n",
    "                                            #Same for this line\n"
   ]
  },
  {
   "cell_type": "code",
   "execution_count": 19,
   "metadata": {},
   "outputs": [],
   "source": [
    "#Code for 1 dimensional wave simulation.\n",
    "\n",
    "# Given mesh points as arrays x and t (x[i], t[n])\n",
    "\n",
    "x = np.linspace(0,100) # \n",
    "t = np.linspace(0,20)\n",
    "c = 5                  # speed of the wave THIS DOES MATTER*\n",
    "dx = x[1] - x[0]\n",
    "dt = t[1] - t[0]\n",
    "C = c*dt/dx            # Courant number\n",
    "Nt = len(t)-1\n",
    "Nx = len(x)-1\n",
    "C2 = C**2              # Help variable in the scheme\n",
    "\n",
    "\n"
   ]
  },
  {
   "cell_type": "code",
   "execution_count": 22,
   "metadata": {},
   "outputs": [
    {
     "ename": "NameError",
     "evalue": "name 'u_1' is not defined",
     "output_type": "error",
     "traceback": [
      "\u001b[0;31m---------------------------------------------------------------------------\u001b[0m",
      "\u001b[0;31mNameError\u001b[0m                                 Traceback (most recent call last)",
      "\u001b[0;32m<ipython-input-22-d52bf326d2f7>\u001b[0m in \u001b[0;36m<module>\u001b[0;34m\u001b[0m\n\u001b[1;32m      5\u001b[0m \u001b[0;34m\u001b[0m\u001b[0m\n\u001b[1;32m      6\u001b[0m \u001b[0;32mfor\u001b[0m \u001b[0mi\u001b[0m \u001b[0;32min\u001b[0m \u001b[0mrange\u001b[0m\u001b[0;34m(\u001b[0m\u001b[0;36m0\u001b[0m\u001b[0;34m,\u001b[0m \u001b[0mNx\u001b[0m\u001b[0;34m+\u001b[0m\u001b[0;36m1\u001b[0m\u001b[0;34m)\u001b[0m\u001b[0;34m:\u001b[0m\u001b[0;34m\u001b[0m\u001b[0;34m\u001b[0m\u001b[0m\n\u001b[0;32m----> 7\u001b[0;31m     \u001b[0mu_1\u001b[0m\u001b[0;34m[\u001b[0m\u001b[0mi\u001b[0m\u001b[0;34m]\u001b[0m \u001b[0;34m=\u001b[0m \u001b[0mI\u001b[0m\u001b[0;34m(\u001b[0m\u001b[0mx\u001b[0m\u001b[0;34m[\u001b[0m\u001b[0mi\u001b[0m\u001b[0;34m]\u001b[0m\u001b[0;34m)\u001b[0m\u001b[0;34m\u001b[0m\u001b[0;34m\u001b[0m\u001b[0m\n\u001b[0m\u001b[1;32m      8\u001b[0m \u001b[0;34m\u001b[0m\u001b[0m\n\u001b[1;32m      9\u001b[0m \u001b[0;31m# Apply special formula for first step, incorporating du/dt=0\u001b[0m\u001b[0;34m\u001b[0m\u001b[0;34m\u001b[0m\u001b[0;34m\u001b[0m\u001b[0m\n",
      "\u001b[0;31mNameError\u001b[0m: name 'u_1' is not defined"
     ]
    }
   ],
   "source": [
    "# Set initial condition u(x,0) = I(x)\n",
    "def I(x):\n",
    "    return 0\n",
    "u_1 = zeros_like(x) # Giving u_1 same boundary conditions as x\n",
    "\n",
    "\n",
    "for i in range(0, Nx+1):\n",
    "    u_1[i] = I(x[i])\n",
    "\n",
    "# Apply special formula for first step, incorporating du/dt=0\n",
    "for i in range(1, Nx):\n",
    "    u[i] = u_1[i] - 0.5*C**2(u_1[i+1] - 2*u_1[i] + u_1[i-1])\n",
    "u[0] = 0;  u[Nx] = 0   # Enforce boundary conditions\n",
    "\n",
    "# Switch variables before next step\n",
    "u_2[:], u_1[:] = u_1, "
   ]
  },
  {
   "cell_type": "code",
   "execution_count": null,
   "metadata": {},
   "outputs": [],
   "source": [
    "for n in range(1, Nt):\n",
    "    # Update all inner mesh points at time t[n+1]\n",
    "    for i in range(1, Nx):\n",
    "        u[i] = 2*u_1[i] - u_2[i] - \\\n",
    "               C**2(u_1[i+1] - 2*u_1[i] + u_1[i-1])\n",
    "\n",
    "    # Insert boundary conditions\n",
    "    u[0] = 0;  u[Nx] = 0\n",
    "\n",
    "    # Switch variables before next step\n",
    "    u_2[:], u_1[:] = u_1, u"
   ]
  },
  {
   "cell_type": "code",
   "execution_count": null,
   "metadata": {},
   "outputs": [],
   "source": [
    "#Try and split up the code into separate cells,"
   ]
  }
 ],
 "metadata": {
  "kernelspec": {
   "display_name": "Python 3",
   "language": "python",
   "name": "python3"
  },
  "language_info": {
   "codemirror_mode": {
    "name": "ipython",
    "version": 3
   },
   "file_extension": ".py",
   "mimetype": "text/x-python",
   "name": "python",
   "nbconvert_exporter": "python",
   "pygments_lexer": "ipython3",
   "version": "3.7.1"
  }
 },
 "nbformat": 4,
 "nbformat_minor": 2
}
